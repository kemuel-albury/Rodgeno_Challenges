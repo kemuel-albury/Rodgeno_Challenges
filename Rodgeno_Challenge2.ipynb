{
  "nbformat": 4,
  "nbformat_minor": 0,
  "metadata": {
    "colab": {
      "name": "Rodgeno_Challenge2.ipynb",
      "provenance": [],
      "collapsed_sections": [],
      "authorship_tag": "ABX9TyN908+Derh6n/+F/wUBFrac",
      "include_colab_link": true
    },
    "kernelspec": {
      "name": "python3",
      "display_name": "Python 3"
    },
    "language_info": {
      "name": "python"
    }
  },
  "cells": [
    {
      "cell_type": "markdown",
      "metadata": {
        "id": "view-in-github",
        "colab_type": "text"
      },
      "source": [
        "<a href=\"https://colab.research.google.com/github/xyoungsavagex242/Rodgeno_Challenges/blob/edit-1/Rodgeno_Challenge2.ipynb\" target=\"_parent\"><img src=\"https://colab.research.google.com/assets/colab-badge.svg\" alt=\"Open In Colab\"/></a>"
      ]
    },
    {
      "cell_type": "code",
      "source": [
        "from datetime import datetime, date\n",
        "from datetime import timedelta\n",
        "import itertools, sys\n",
        "\n",
        "days_to_add = 0\n",
        "\n",
        "pay_period = str(input('Choose a pay period(Bi-Weekly or Weekly): '))\n",
        "\n",
        "if pay_period == \"Bi-Weekly\":\n",
        "  days_to_add = 14\n",
        "elif pay_period == \"Weekly\":\n",
        "  days_to_add = 7\n",
        "else:\n",
        "  print(\"Incorrect Input! Type Bi-Weekly or Weekly\")\n",
        "  sys.exit()\n",
        "\n",
        "start_input = str(input('Enter starting date(yyyy-mm-dd): '))\n",
        "end_input = str(input('Enter ending date(yyyy-mm-dd): '))\n",
        "\n",
        "start_date = datetime.strptime(start_input, \"%Y-%m-%d\").date()\n",
        "end_date = datetime.strptime(end_input, \"%Y-%m-%d\").date()\n",
        "\n",
        "\n",
        "# Loops\n",
        "for i in itertools.count(start=1):\n",
        "  new_date = start_date\n",
        "  new_date += timedelta(days=days_to_add)\n",
        "  if new_date >= end_date:\n",
        "    print(\"Payroll\", i, \":\", start_date, \"-\", end_date)\n",
        "    break\n",
        "  print(\"Payroll\", i, \":\", start_date, \"-\", new_date)\n",
        "  start_date = new_date\n",
        "  start_date += timedelta(days=1)\n",
        "\n",
        "print(\"Program Successfully Completed\")\n",
        "\n",
        "\n",
        "  \n"
      ],
      "metadata": {
        "id": "K_0kc61Zsbcr",
        "colab": {
          "base_uri": "https://localhost:8080/"
        },
        "outputId": "e5cfe3c3-97a5-42cf-c1af-bde71f6ea3ce"
      },
      "execution_count": 59,
      "outputs": [
        {
          "output_type": "stream",
          "name": "stdout",
          "text": [
            "Choose a pay period(Bi-Weekly or Weekly): Weekly\n",
            "Enter starting date(yyyy-mm-dd): 2021-01-01\n",
            "Enter ending date(yyyy-mm-dd): 2021-02-02\n",
            "Payroll 1 : 2021-01-01 - 2021-01-08\n",
            "Payroll 2 : 2021-01-09 - 2021-01-16\n",
            "Payroll 3 : 2021-01-17 - 2021-01-24\n",
            "Payroll 4 : 2021-01-25 - 2021-02-01\n",
            "Payroll 5 : 2021-02-02 - 2021-02-02\n",
            "Program Successfully Completed\n"
          ]
        }
      ]
    }
  ]
}