{
  "nbformat": 4,
  "nbformat_minor": 0,
  "metadata": {
    "colab": {
      "name": "Rodgeno_Challenge1.ipynb",
      "provenance": [],
      "collapsed_sections": [],
      "authorship_tag": "ABX9TyNTxN/ESgnvVdnVaZqc6c1g",
      "include_colab_link": true
    },
    "kernelspec": {
      "name": "python3",
      "display_name": "Python 3"
    },
    "language_info": {
      "name": "python"
    }
  },
  "cells": [
    {
      "cell_type": "markdown",
      "metadata": {
        "id": "view-in-github",
        "colab_type": "text"
      },
      "source": [
        "<a href=\"https://colab.research.google.com/github/xyoungsavagex242/Rodgeno_Challenge1/blob/main/Rodgeno_Challenge1.ipynb\" target=\"_parent\"><img src=\"https://colab.research.google.com/assets/colab-badge.svg\" alt=\"Open In Colab\"/></a>"
      ]
    },
    {
      "cell_type": "code",
      "source": [
        "from datetime import datetime, date\n",
        "from datetime import timedelta\n",
        "\n",
        "days_to_add =  14#@param {type: \"number\"}\n",
        "# storing today's date in a variable\n",
        "start_date = date.today()\n",
        "number_of_payroll_runs =  5#@param\n",
        "\n",
        "# Loops\n",
        "for i in range(1, number_of_payroll_runs + 1):\n",
        "  new_date = start_date\n",
        "  new_date += timedelta(days=days_to_add)\n",
        "  print(\"Payroll\", i, \":\", start_date, \"-\", new_date)\n",
        "  start_date = new_date\n",
        "  start_date += timedelta(days=1)\n",
        "  \n"
      ],
      "metadata": {
        "colab": {
          "base_uri": "https://localhost:8080/"
        },
        "id": "K_0kc61Zsbcr",
        "outputId": "ae673e9b-6e97-40f5-ef6b-939a6a332f47"
      },
      "execution_count": 93,
      "outputs": [
        {
          "output_type": "stream",
          "name": "stdout",
          "text": [
            "Payroll 1 : 2022-03-07 - 2022-03-21\n",
            "Payroll 2 : 2022-03-22 - 2022-04-05\n",
            "Payroll 3 : 2022-04-06 - 2022-04-20\n",
            "Payroll 4 : 2022-04-21 - 2022-05-05\n",
            "Payroll 5 : 2022-05-06 - 2022-05-20\n"
          ]
        }
      ]
    }
  ]
}